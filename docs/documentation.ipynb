{
  "nbformat": 4,
  "nbformat_minor": 5,
  "metadata": {
    "kernelspec": {
      "name": "python3",
      "language": "python",
      "display_name": "Python 3"
    }
  },
  "cells": [
    {
      "id": "1942ce78",
      "cell_type": "markdown",
      "source": "## 1D Ising Model with Transverse Field\nThe Hamiltonian of the system is:\n\n$$H = - \\sum_{n=1}^{N-1} \\sigma^z_n \\sigma^z_{n+1} - \\sum_{n=1}^{N} g_n\\sigma^x_n$$\n\nwhere:\n- $N$ is the number of spin-1/2 particles.\n- $g$ is the transverse magnetic field strength.\n- $\\sigma^x_n$, $\\sigma^z_n$ are spin-1/2 operators at site $n$ in $\\hat{x}, \\hat{z}$ direction.\n\n### Phases:\n**Paramagnetic Phase** ($g \\gg 1$):\n- Ground state: $$\\ket{GS}=\\ket{\\rightarrow\\rightarrow\\cdots\\rightarrow}$$\n- Most excited: $$\\ket{\\leftarrow\\leftarrow\\cdots\\leftarrow}$$\n\n**Ferromagnetic Phase** ($g \\ll 1$):\n- Degenerate ground states: $$\\ket{\\uparrow\\uparrow\\cdots\\uparrow}, \\quad \\ket{\\downarrow\\downarrow\\cdots\\downarrow}$$\n- Excited states: $$\\ket{\\uparrow\\downarrow\\uparrow\\cdots}, \\quad \\ket{\\downarrow\\uparrow\\downarrow\\cdots}$$",
      "metadata": {}
    },
    {
      "id": "c18d3355",
      "cell_type": "markdown",
      "source": "We use the Jordan-Wigner transformation:\n$$\\sigma^x_n = 1 - 2 c^{\\dagger}_n c_n, \\quad \\sigma^z_n = -(c_n + c^{\\dagger}_n) \\prod_{m<n} (1 - 2 c^{\\dagger}_m c_m)$$\n\nResulting Hamiltonian:\n$$H = 2 \\sum_{n=1}^{N} g_n c^{\\dagger}_n c_n - 2 \\sum_{n=1}^{N-1} (g_n c^{\\dagger}_n c_n + c_{n+1} c_n)$$\n\nDiagonalized via Bogoliubov transformation:\n$$H = \\sum_{m=1}^{N}\\omega_m \\left(\\gamma_m^{\\dagger} \\gamma_m - \\frac{1}{2} \\right)$$\n$$c_n = \\sum_{m=1}^{N} ( u_{n,m} \\gamma_m + v_{n,m}^* \\gamma^{\\dagger}_m )$$\n\nStationary BdG equations:\n$$\\omega_m u^{\\pm}_{n,m} = 2 g_n u^{\\mp}_{n,m} - 2 u^{\\mp}_{n\\mp1, m}$$",
      "metadata": {}
    },
    {
      "id": "cd4c9d42",
      "cell_type": "markdown",
      "source": "Time-dependent BdG equation:\n$$i \\hbar \\partial_{t} u^{\\pm}_{n,m} = 2 g_n(t) u^{\\mp}_{n,m} - 2 u^{\\mp}_{n\\mp1, m}$$\nBoundary: $$u^{\\pm}_{n+1}=u^{\\pm}_{0}=0$$\n\nVector form:\n$$i \\hbar \\partial_t \\begin{pmatrix} \\vec{u}^{+} \\\\ \\vec{u}^{-} \\end{pmatrix} = H_1(t)\\begin{pmatrix} \\vec{u}^{+} \\\\ \\vec{u}^{-} \\end{pmatrix}+H_2 \\begin{pmatrix} \\vec{u}^{+} \\\\ \\vec{u}^{-} \\end{pmatrix}$$\n\nFormal solution:\n$$\\begin{pmatrix} \\vec{u_t}^{+} \\\\ \\vec{u_t}^{-} \\end{pmatrix} = e^{-i \\hbar (H_1(t) + H_2)}\\begin{pmatrix} \\vec{u_{t=0}}^{+} \\\\ \\vec{u_{t=0}}^{-} \\end{pmatrix}$$\nTrotterized evolution:\n$$U(t) \\approx \\prod_{n=0}^{N-1} e^{-i \\hbar dt (H_1(ndt+dt/2) + H_2)}$$\n$$e^{-i \\hbar dt (H_1 + H_2)} = e^{-i \\hbar \\frac{dt}{2} H_2} e^{-i \\hbar dt H_1} e^{-i \\hbar \\frac{dt}{2} H_2} + O(dt^3)$$",
      "metadata": {}
    },
    {
      "id": "2c26ce4a",
      "cell_type": "markdown",
      "source": "Hamiltonians in diagonal bases:\n$$i \\hbar \\partial_t u_{n,m} = 2g_n(t) u_{n,m} + \\dots$$\n$$i \\hbar \\partial_t v_{n,m} = -2g_n(t) v_{n,m} + \\dots$$\n$$i \\hbar \\partial_t \\tilde{u}^+_{n,m} = \\dots - 2\\tilde{u}^+_{n,m}$$\n$$i \\hbar \\partial_t \\tilde{u}^-_{n,m} = \\dots + 2\\tilde{u}^-_{n,m}$$\n\nWhere:\n$$\\tilde{u}^+_n = \\frac{u^{+}_n + u^-_{n-1}}{\\sqrt{2}}, \\quad \\tilde{u}^-_n = \\frac{u^{+}_{n+1} - u^-_{n}}{\\sqrt{2}}$$",
      "metadata": {}
    },
    {
      "id": "f0018a8c",
      "cell_type": "markdown",
      "source": "Excitation density:\n$$p = \\frac{1}{N}\\sum_{m}\\bra{\\psi(t_f)}\\gamma^{\\dagger}_m\\gamma_m \\ket{\\psi(t_f)}$$\n\nWhere:\n$$\\gamma_m = \\sum_{n=1}^{N} ( u^*_{n,m} c_n + v^*_{n,m} c^{\\dagger}_n )$$\n$$c_n = \\sum_{m=1}^{N} ( u_{n,m}(t_f) \\tilde{\\gamma}_m + v_{n,m}^*(t_f) \\tilde{\\gamma}^{\\dagger}_m )$$\nwith $\\tilde{\\gamma}_m \\ket{\\psi(t_f)}=0$",
      "metadata": {}
    },
    {
      "id": "41a3c8e0",
      "cell_type": "markdown",
      "source": "## Kibble-Zurek Mechanism\nSpontaneous symmetry breaking creates topological defects:\n$$\\mathbb{Z}_2 \\rightarrow \\mathbb{1}$$\n\nNear the critical point:\n$$g \\sim \\left(\\frac{t}{\\tau_Q}\\right)^r$$\n\nDefect density:\n$$d \\sim \\tau_Q^{-\\frac{r\\nu}{rz\\nu+1}}$$\nFor Ising model: $z=\\nu=1$, $r=2 \\Rightarrow d \\sim \\tau_Q^{-2/3}$",
      "metadata": {}
    },
    {
      "id": "6c92eea0",
      "cell_type": "markdown",
      "source": "### Example 1\nSine ramp from $g=2$ to $g_c=1$:\n$$g(t) =\n\\begin{cases}\n2, & \\text{if } \\frac{t}{\\tau_Q} < -\\frac{\\pi}{2} \\\\\n3/2 - 1/2 \\sin(\\frac{t}{\\tau_Q}), & \\text{if } -\\frac{\\pi}{2} \\leq \\frac{t}{\\tau_Q} \\leq \\frac{\\pi}{2} \\\\\n1, & \\text{if } \\frac{t}{\\tau_Q} > \\frac{\\pi}{2}\n\\end{cases}$$\n\nData for $L=100, 200, 300, 400, 500, 1000$ confirm power-law scaling.",
      "metadata": {}
    },
    {
      "id": "b6adeb58",
      "cell_type": "markdown",
      "source": "### Example 2\nDispersion for infinite 1D Ising model:\n$$\\omega_k=2\\sqrt{(g-\\cos{k})^2+\\sin^2{k}}$$\nNear $k=0$:\n$$\\omega_k \\approx 2k \\Rightarrow c=\\frac{\\mathrm{d} \\omega}{\\mathrm{d}k}=2$$\n\nInterpretation: if ramp speed is slower than $c$, parts of the system can communicate orientation across the transition, reducing excitations.",
      "metadata": {}
    }
  ]
}
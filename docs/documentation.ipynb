{
  "cells": [
    {
      "cell_type": "markdown",
      "id": "1942ce78",
      "metadata": {},
      "source": [
        "## 1D Ising Model with Transverse Field\n",
        "\n",
        "### Hamiltonian:\n",
        "\n",
        "The Hamiltonian of the system is:\n",
        "\n",
        "$$H = - \\sum_{n=1}^{L-1} \\sigma^z_n \\sigma^z_{n+1} - \\sum_{n=1}^{L} g_n\\sigma^x_n$$\n",
        "\n",
        "where:\n",
        "- $L$ is the number of spin-1/2 particles.\n",
        "- $g$ is the transverse magnetic field strength.\n",
        "- $\\sigma^x_n$, $\\sigma^z_n$ are spin-1/2 operators at site $n$ in $\\hat{x}, \\hat{z}$ direction.\n",
        "\n",
        "### Phases:\n",
        "\n",
        "The model has a second-order phase transition at the critical point $g_c = \\pm 1$.\n",
        "\n",
        "**Paramagnetic Phase**:\n",
        "\n",
        "The model is in a **paramagnetic phase**, when $|g| \\gg 1$. In this case the ground state of the system has no degeneracy and it is a state in which all spins are pointing along $\\hat{x}$:\n",
        "\n",
        "$$\\ket{GS}=\\ket{\\rightarrow\\rightarrow\\rightarrow\\cdots\\rightarrow\\rightarrow\\rightarrow}$$\n",
        "\n",
        "On the other hand, the most excited state in this phase would be:\n",
        "\n",
        "$$\\ket{\\leftarrow\\leftarrow\\leftarrow\\cdots\\leftarrow\\leftarrow\\leftarrow}$$\n",
        "\n",
        "**Ferromagnetic Phase**:\n",
        "\n",
        "The model is in a **ferromagnetic phase**, when $|g| \\ll 1$. A ground state of the system has a two-fold degeneracy and it can be one of the following states (or their superposition):\n",
        "\n",
        "$$\\ket{\\uparrow\\uparrow\\uparrow\\cdots\\uparrow\\uparrow\\uparrow}, \\quad \\ket{\\downarrow\\downarrow\\downarrow\\cdots\\downarrow\\downarrow\\downarrow}$$\n",
        "\n",
        "The most excited state is spanned by:\n",
        "\n",
        "$$\\ket{\\uparrow\\downarrow\\uparrow\\cdots\\uparrow\\downarrow\\uparrow}, \\quad \\ket{\\downarrow\\uparrow\\downarrow\\cdots\\downarrow\\uparrow\\downarrow}$$\n",
        "\n",
        "## Simulations\n",
        "\n",
        "Our goal is to simulate a quench of a finite Ising chain with size up to $1000$ spins. A *quench* refers to a change in time of a control parameter $g$, which can be either uniform or spatially dependent.\n",
        "\n",
        "Exponential growth of the Hilbert space with the number of particles makes exact diagonalization methods inefficient to simulate a system of as few as $50$ particles. \\\n",
        "However, this model can be mapped to a system of non-interacting spinless fermions using the Jordan-Wigner transformation, resulting in a quadratic form that can be diagonalized via the Bogoliubov transformation.\\\n",
        " This approach allows us to work with $2L \\times 2L$ matrices, instead of $2^L \\times 2^L$ ones."
      ]
    },
    {
      "cell_type": "markdown",
      "id": "c18d3355",
      "metadata": {},
      "source": [
        "The Jordan-Wigner transformation is defined as:\n",
        "$$\\sigma^x_n = 1 - 2 c^{\\dagger}_n c_n, \\quad \\sigma^z_n = -(c_n + c^{\\dagger}_n) \\prod_{m<n} (1 - 2 c^{\\dagger}_m c_m)$$\n",
        "\n",
        "The hamiltonian becomes quadratic in J-W fermions:\n",
        "$$H = \\sum_{n=1}^{L} g_n \\left( 2 c^{\\dagger}_n c_n - 1 \\right) - 2 \\sum_{n=1}^{L-1} \\left(c^{\\dagger}_n c^{\\dagger}_{n+1} + c^{\\dagger}_n c_{n+1} + c^{\\dagger}_{n+1} c_{n} + c_{n+1} c_n \\right)$$\n",
        "\n",
        "This quadratic hamiltonian can be diagonalized:\n",
        "$$H = \\sum_{m=1}^{L}\\omega_m \\left(\\gamma_m^{\\dagger} \\gamma_m - \\frac{1}{2} \\right)$$\n",
        "\n",
        "via the Bogoliubov transformation\n",
        "$$c_n = \\sum_{m=1}^{L} ( u_{n,m} \\gamma_m + v_{n,m}^* \\gamma^{\\dagger}_m)$$\n",
        "\n",
        "where $u^{\\pm}_{n,m} = \\left(u_{n,m} \\pm v_{n,m} \\right) / \\sqrt{2}$ are positive eigenmodes ($\\omega_m \\geq 0$) of the stationary Bogoliubov-de-Gennes (BdG) equations:\n",
        "$$\\omega_m u^{\\pm}_{n,m} = 2 g_n u^{\\mp}_{n,m} - 2 u^{\\mp}_{n\\mp1, m}$$"
      ]
    },
    {
      "cell_type": "markdown",
      "id": "cd4c9d42",
      "metadata": {},
      "source": [
        "To simulate the evolution of BdG eigenmodes, we use the time-dependent version of BdG equation:\n",
        "$$i \\hbar \\partial_{t} u^{\\pm}_{n,m} = 2 g_n(t) u^{\\mp}_{n,m} - 2 u^{\\mp}_{n\\mp1, m}$$\n",
        "\n",
        "We impose OBC (though the code also has an option to simulate a system with PBC): \n",
        "$$u^{\\pm}_{L+1}=u^{\\pm}_{0}=0$$\n",
        "\n",
        "The time-dependent BdG eq. can be rewritten in the vectorized form:\n",
        "$$i \\hbar \\partial_t \\begin{pmatrix} \\vec{u}^{+} \\\\ \\vec{u}^{-} \\end{pmatrix} = H_1(t)\\begin{pmatrix} \\vec{u}^{+} \\\\ \\vec{u}^{-} \\end{pmatrix}+H_2 \\begin{pmatrix} \\vec{u}^{+} \\\\ \\vec{u}^{-} \\end{pmatrix}$$\n",
        "\n",
        "Formal solution to the equation above would involve the Dyson series, as hamiltonians at different times do not commute.\n",
        "\n",
        "Instead, we can divide the quench time $\\tau_Q$ into $N$ time steps of size $dt = \\tau_Q / N$, and assume that the $H$ is constant at each step with $g=g(ndt+dt/2)$:\n",
        "\n",
        "$$U(t) \\approx \\prod_{n=0}^{N-1} e^{-i \\hbar dt (H_1(ndt+dt/2) + H_2)}$$\n",
        "\n",
        "As we will see, it is possible to analytically diagonalize both $H_1$ and $H_2$ separately, rather than their sum $H_1+H_2$. Therefore, it is advantageous to break this exponential operator into three parts using the third order Suzuki-Trotter decomposition:\n",
        "\n",
        "$$e^{-i \\hbar dt (H_1(ndt+dt/2) + H_2)} = e^{-i \\hbar \\frac{dt}{2} H_2} e^{-i \\hbar dt H_1(ndt+dt/2)} e^{-i \\hbar \\frac{dt}{2} H_2} + O(dt^3)$$"
      ]
    },
    {
      "cell_type": "markdown",
      "id": "2c26ce4a",
      "metadata": {},
      "source": [
        "$H_1$ is diagonal in the ${u,v}$ basis:\n",
        "\n",
        "$$i \\hbar \\partial_t u_{n,m} = 2g_n(t) u_{n,m} + \\dots$$\n",
        "$$i \\hbar \\partial_t v_{n,m} = -2g_n(t) v_{n,m} + \\dots$$\n",
        "\n",
        "and $H_2$ is diagonal in $\\tilde{u}^{\\pm}_{n,m}$ basis\n",
        "\n",
        "$$i \\hbar \\partial_t \\tilde{u}^+_{n,m} = \\dots - 2\\tilde{u}^+_{n,m}$$\n",
        "$$i \\hbar \\partial_t \\tilde{u}^-_{n,m} = \\dots + 2\\tilde{u}^-_{n,m}$$\n",
        "\n",
        "where:\n",
        "\n",
        "$$\\tilde{u}^+_n = \\frac{u^{+}_n + u^-_{n-1}}{\\sqrt{2}}, \\quad \\tilde{u}^-_n = \\frac{u^{+}_{n+1} - u^-_{n}}{\\sqrt{2}}$$"
      ]
    },
    {
      "cell_type": "markdown",
      "id": "f0018a8c",
      "metadata": {},
      "source": [
        "Density of excitations can be found as an expectation value of the number of Bogoliubov quasiparticles in the final state:\n",
        "$$p = \\frac{1}{N}\\sum_{m}\\bra{\\psi(t_f)}\\gamma^{\\dagger}_m\\gamma_m \\ket{\\psi(t_f)}$$\n",
        "\n",
        "where Bogoliubov quasiparticles are defined by the eigenmodes of stationary BdG eqs. at the final point:\n",
        "$$\\gamma_m = \\sum_{n=1}^{N} ( u^*_{n,m} c_n + v^*_{n,m} c^{\\dagger}_n )$$\n",
        "and fermionic operators are defined by evolved modes:\n",
        "$$c_n = \\sum_{m=1}^{N} ( u_{n,m}(t_f) \\tilde{\\gamma}_m + v_{n,m}^*(t_f) \\tilde{\\gamma}^{\\dagger}_m )$$\n",
        "\n",
        "with a constraint that $\\tilde{\\gamma}_m \\ket{\\psi(t_f)}=0$\n",
        "\n",
        "This was a general idea on how to efficiently simulate dynamics of Ising model with transverse magnetic field."
      ]
    },
    {
      "cell_type": "markdown",
      "id": "41a3c8e0",
      "metadata": {},
      "source": [
        "## Kibble-Zurek Mechanism\n",
        "**Main idea**: Spontaneous symmetry breaking leads to the formation of topological defects.\n",
        "\n",
        "In Ising model we have the following SSB pattern:\n",
        "$$\\mathbb{Z}_2 \\rightarrow \\mathbb{1}$$\n",
        "\n",
        "Now, suppose that we change our control parameter over some time scale $\\tau_Q$, and near the critical point it behaves as:\n",
        "$$g \\sim \\left(\\frac{t}{\\tau_Q}\\right)^r$$\n",
        "\n",
        "The question could be, for example, what is the size of domains, or what is the density of these topological defects? Answer:\n",
        "$$d \\sim \\tau_Q^{-\\frac{r\\nu}{rz\\nu+1}}$$\n",
        "\n",
        "where $z, \\nu$ are so-called critical exponents, and $r$ depends on the rate of change at which we\n",
        "approach the critical point. For Ising model $z=\\nu=1$ and in case of a sinusoidal ramp, which approaches\n",
        "the critical point as quadratic function ($r=2$) we have:\n",
        "\n",
        "$$d \\sim \\tau_Q^{-2/3}$$"
      ]
    },
    {
      "cell_type": "markdown",
      "id": "6c92eea0",
      "metadata": {},
      "source": [
        "## Example 1 | KZ power-law hypothesis\n",
        "\n",
        "The aim of the example is to demonstrate the power-law relationship between density of topological defects $d$ and the quench time $\\tau_Q$\n",
        "\n",
        "We prepare the systems of $L=100, 200, 300, 400, 500, 1000$ particles in the ground state at $g=2$ and ramp down the transverse field to the critical point $g_c=1$, following the sinusoidal protocole:\n",
        "\n",
        "$$g(t) =\n",
        "\\begin{cases}\n",
        "2, & \\text{if } \\frac{t}{\\tau_Q} < -\\frac{\\pi}{2} \\\\\n",
        "3/2 - 1/2 \\sin(\\frac{t}{\\tau_Q}), & \\text{if } -\\frac{\\pi}{2} \\leq \\frac{t}{\\tau_Q} \\leq \\frac{\\pi}{2} \\\\\n",
        "1, & \\text{if } \\frac{t}{\\tau_Q} > \\frac{\\pi}{2}\n",
        "\\end{cases}$$\n",
        "\n",
        "At the end of a quench, the density of excitations is measured.\n",
        "\n",
        "Data for $L=100, 200, 300, 400, 500, 1000$ is plotted below. For small quench times, we can see the saturation region. For slower quenches, we can clearly see the power-law dependence, where KZ exponent is found to be roughly $-0.63$ for $L=1000$, as predicted by KZ theory."
      ]
    },
    {
      "cell_type": "markdown",
      "id": "90af0dfa",
      "metadata": {},
      "source": [
        "### Example 1 | Results\n",
        "\n",
        "<p align=\"center\">\n",
        "  <img src=\"figures/KZ_scaling_plot.svg\" width=\"1000\">\n",
        "</p>"
      ]
    },
    {
      "cell_type": "markdown",
      "id": "b6adeb58",
      "metadata": {},
      "source": [
        "## Inhomogeneous quench\n",
        "Dispersion relation for infinite 1D Ising model has the form:\n",
        "\n",
        "$$\\omega_k=2\\sqrt{(g-\\cos{k})^2+\\sin^2{k}}$$\n",
        "\n",
        "one can expand it near the Fermi point at critical $g=1$ for small $k$:\n",
        "\n",
        "$$\\omega_k \\approx 2\\sqrt{\\left(g_c-1+k^2/2\\right)^2+k^2}\\approx 2k \\;\\Rightarrow \\; c=\\frac{\\mathrm{d} \\omega}{\\mathrm{d}k}=2$$\n",
        "\n",
        "we see that there is a characteristic velocity in the system. We can think of it as a maximal group velocity at which information can propagate.\n",
        "\n",
        "**Idea**: If a ramp $g(t, n)$ propagates slower than $c$, then those parts of the system that cross the critical point earlier may be able to communicate their choice of orientation of the order parameter to the parts that cross the transition later and bias them to make the same choice. Hence, smaller excitation density, and a better approximation of a final GS."
      ]
    },
    {
      "cell_type": "markdown",
      "id": "5e290dbc",
      "metadata": {},
      "source": [
        "## Example 2 | Shortcut to adiabaticity\n",
        "\n",
        "In this example we will compare the uniform quenches with the inhomogeneous ones, where the change in transverse field starts at the center of the system, and expands at a constant speed of $v$ to the ends of the chain. Here the inverse of $\\alpha$ parameter could be interpreted as the width of the ramp.\n",
        "\n",
        "<p align=\"center\">\n",
        "  <img src=\"figures/inhomo_ramp.svg\" width=\"1000\">\n",
        "</p>\n",
        "\n",
        "As in the previous example, we choose a sinusoidal ramp, and perform time evolution from $g=2$ to the critical point. For inhomogeneous case, we replace:\n",
        "\n",
        "$$t/\\tau_Q \\rightarrow \\alpha\\left( vt/\\tau_{\\mathrm{total}}-n\\right), \\quad \\mathrm{where} \\quad \\tau_\\mathrm{total}=\\frac{\\pi}{\\alpha v} + \\frac{1}{v} \\frac{L-1}{2}$$\n",
        "\n",
        "Below are the results for the system of $L=1000$ particles. As expected, the excitations are suppressed for inhomogeneous quenches with critical front velocity smaller than the speed of sound $v<c=2$:"
      ]
    },
    {
      "cell_type": "markdown",
      "id": "de05ded8",
      "metadata": {},
      "source": [
        "### Example 2 | Results\n",
        "\n",
        "<p align=\"center\">\n",
        "  <img src=\"figures/inhomo_test_lin_plot_1000.svg\" width=\"1000\">\n",
        "</p>"
      ]
    },
    {
      "cell_type": "markdown",
      "id": "11dadebd",
      "metadata": {},
      "source": [
        "<p align=\"center\">\n",
        "  <img src=\"figures/inhomo_test_log_plot_1000.svg\" width=\"1000\">\n",
        "</p>"
      ]
    }
  ],
  "metadata": {
    "kernelspec": {
      "display_name": "Python 3",
      "language": "python",
      "name": "python3"
    },
    "language_info": {
      "codemirror_mode": {
        "name": "ipython",
        "version": 3
      },
      "file_extension": ".py",
      "mimetype": "text/x-python",
      "name": "python",
      "nbconvert_exporter": "python",
      "pygments_lexer": "ipython3",
      "version": "3.12.7"
    }
  },
  "nbformat": 4,
  "nbformat_minor": 5
}
